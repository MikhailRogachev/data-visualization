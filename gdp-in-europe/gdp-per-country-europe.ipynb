{
 "cells": [
  {
   "cell_type": "markdown",
   "id": "a4e6a022",
   "metadata": {},
   "source": [
    "## GDP per country (Europe) map\n",
    "##### This example demonstrates how to use the Folium package to visualize data on a map.\n",
    "\n",
    "Gross domestic product (GDP) is the standard measure of the value added created through the production of goods and services in a country during a certain period."
   ]
  },
  {
   "cell_type": "code",
   "execution_count": null,
   "id": "fc7091c0",
   "metadata": {},
   "outputs": [],
   "source": [
    "import pandas as pd\n",
    "import folium, os\n",
    "import numpy as np\n",
    "import colorsys\n",
    "\n",
    "import branca.colormap as cm"
   ]
  },
  {
   "cell_type": "code",
   "execution_count": null,
   "id": "ea666b4b",
   "metadata": {},
   "outputs": [],
   "source": [
    "gdp_path = 'datasource/2020-2025.csv'\n",
    "countries_path = 'datasource/countries_coordinates.csv'\n",
    "eus_path = 'datasource/eus.csv'\n",
    "\n",
    "show_ds = False"
   ]
  },
  {
   "cell_type": "code",
   "execution_count": null,
   "id": "fe974c66",
   "metadata": {},
   "outputs": [],
   "source": [
    "EU = pd.read_csv(eus_path)\n",
    "EU = [i for i in EU.iloc[0:]['eus']]\n",
    "\n",
    "if show_ds == True:\n",
    "    print(EU)"
   ]
  },
  {
   "cell_type": "code",
   "execution_count": null,
   "id": "5b3e3fb3",
   "metadata": {},
   "outputs": [],
   "source": [
    "gdps = pd.read_csv(gdp_path)\n",
    "gdps = gdps[gdps['Country'].isin(EU)]\n",
    "\n",
    "if show_ds == True:\n",
    "    print(gdps)"
   ]
  },
  {
   "cell_type": "code",
   "execution_count": null,
   "id": "ab35efe1",
   "metadata": {},
   "outputs": [],
   "source": [
    "countries = pd.read_csv(countries_path, encoding='ISO-8859-1')\n",
    "countries = countries[countries['name'].isin(EU)]\n",
    "\n",
    "if show_ds == True:\n",
    "    print(countries)"
   ]
  },
  {
   "cell_type": "code",
   "execution_count": null,
   "id": "3a0d0bd9",
   "metadata": {
    "scrolled": false
   },
   "outputs": [],
   "source": [
    "data = gdps.merge(countries, left_on='Country', right_on='name')\n",
    "data"
   ]
  },
  {
   "cell_type": "code",
   "execution_count": null,
   "id": "1877648a",
   "metadata": {
    "scrolled": true
   },
   "outputs": [],
   "source": [
    "print(f'EU countries number: {len(EU)}, GDP dataset rows number: {data.count()[0]}')"
   ]
  },
  {
   "cell_type": "code",
   "execution_count": null,
   "id": "dbb01d5b",
   "metadata": {
    "scrolled": true
   },
   "outputs": [],
   "source": [
    "map_lat = 49.432880\n",
    "map_lng = 15.632731\n",
    "start_zone = 4\n",
    "scale_arg = 1000;\n",
    "year = '2024'\n",
    "\n",
    "gdp_max = data[year].max() / scale_arg\n",
    "gdp_min = data[year].min() / scale_arg\n",
    "\n",
    "gdp_map = folium.Map(location=[map_lat, map_lng], zoom_start = start_zone)\n",
    "\n",
    "colormap = cm.linear.PiYG_11.scale(gdp_min, gdp_max).to_step(scale_arg)\n",
    "colormap.caption = \"A colormap caption\"\n",
    "gdp_map.add_child(colormap)\n",
    "\n",
    "\n",
    "for i in range(len(data.index)):\n",
    "    radius = 20\n",
    "    row = data.iloc[i]\n",
    "    \n",
    "    folium.CircleMarker(\n",
    "        location = [row['latitude'], row['longitude']],\n",
    "        radius = radius,\n",
    "        color = colormap.rgba_hex_str(row[year] / scale_arg), #\"cornflowerblue\",\n",
    "        stroke = False,\n",
    "        fill = True,\n",
    "        fill_opacity = 0.6,\n",
    "        opacity = 1,\n",
    "        popup = \"{} pixels\".format(radius),\n",
    "        tooltip = f\"GDP = {row[year]}\").add_to(gdp_map)\n",
    "    \n",
    "gdp_map"
   ]
  },
  {
   "cell_type": "markdown",
   "id": "df720109",
   "metadata": {},
   "source": [
    "![alt text](img/europe-gdp-2025.png)"
   ]
  }
 ],
 "metadata": {
  "kernelspec": {
   "display_name": "Python 3 (ipykernel)",
   "language": "python",
   "name": "python3"
  },
  "language_info": {
   "codemirror_mode": {
    "name": "ipython",
    "version": 3
   },
   "file_extension": ".py",
   "mimetype": "text/x-python",
   "name": "python",
   "nbconvert_exporter": "python",
   "pygments_lexer": "ipython3",
   "version": "3.9.7"
  },
  "toc": {
   "base_numbering": 1,
   "nav_menu": {},
   "number_sections": false,
   "sideBar": true,
   "skip_h1_title": false,
   "title_cell": "Table of Contents",
   "title_sidebar": "Contents",
   "toc_cell": false,
   "toc_position": {},
   "toc_section_display": true,
   "toc_window_display": false
  },
  "varInspector": {
   "cols": {
    "lenName": 16,
    "lenType": 16,
    "lenVar": 40
   },
   "kernels_config": {
    "python": {
     "delete_cmd_postfix": "",
     "delete_cmd_prefix": "del ",
     "library": "var_list.py",
     "varRefreshCmd": "print(var_dic_list())"
    },
    "r": {
     "delete_cmd_postfix": ") ",
     "delete_cmd_prefix": "rm(",
     "library": "var_list.r",
     "varRefreshCmd": "cat(var_dic_list()) "
    }
   },
   "types_to_exclude": [
    "module",
    "function",
    "builtin_function_or_method",
    "instance",
    "_Feature"
   ],
   "window_display": false
  }
 },
 "nbformat": 4,
 "nbformat_minor": 5
}
